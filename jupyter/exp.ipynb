{
 "cells": [
  {
   "cell_type": "code",
   "execution_count": 1,
   "metadata": {
    "scrolled": true
   },
   "outputs": [],
   "source": [
    "import csv\n",
    "import pprint\n",
    "import matplotlib.pyplot as plt\n",
    "\n",
    "def list_up_p(path):\n",
    "    p_list = []\n",
    "    with open(path) as f:\n",
    "        reader = csv.reader(f)\n",
    "        for row in reader:\n",
    "            p_list.append(float(row[0]))\n",
    "    return p_list\n",
    "        \n",
    "def show_hist(p_list): \n",
    "    plt.hist(p_list)\n",
    "    plt.ylabel('frequent')\n",
    "    plt.xlabel('selective_p')\n",
    "    plt.show()"
   ]
  },
  {
   "cell_type": "code",
   "execution_count": 2,
   "metadata": {},
   "outputs": [],
   "source": [
    "from scipy.stats import stats\n",
    "\n",
    "def KS(p_list):\n",
    "    print(\"KS検定結果: {}\".format(stats.kstest(p_list, \"uniform\").pvalue))"
   ]
  },
  {
   "cell_type": "code",
   "execution_count": 3,
   "metadata": {},
   "outputs": [],
   "source": [
    "def TRP(p_list):\n",
    "    count = 0\n",
    "    for p in p_list:\n",
    "        if p < 0.05 :\n",
    "            count += 1\n",
    "    \n",
    "    trp = count/len(p_list)\n",
    "    return trp"
   ]
  },
  {
   "cell_type": "code",
   "execution_count": 4,
   "metadata": {},
   "outputs": [],
   "source": [
    "def show_plot(trp_list, text, y_label):\n",
    "    for i, list in enumerate(trp_list):\n",
    "        plt.plot(list, label = text.format(i+1))\n",
    "    plt.xlabel(\"delta mu\")\n",
    "    plt.ylabel(y_label)\n",
    "    plt.legend()\n",
    "    plt.show()"
   ]
  },
  {
   "cell_type": "code",
   "execution_count": 30,
   "metadata": {},
   "outputs": [
    {
     "name": "stdout",
     "output_type": "stream",
     "text": [
      "平均差: 0, シグマ領域1, 検定回数400\n"
     ]
    },
    {
     "data": {
      "image/png": "[encoded data removed]",
      "text/plain": [
       "<Figure size 432x288 with 1 Axes>"
      ]
     },
     "metadata": {
      "needs_background": "light"
     },
     "output_type": "display_data"
    },
    {
     "name": "stdout",
     "output_type": "stream",
     "text": [
      "KS検定結果: 0.22972344434969827\n"
     ]
    },
    {
     "data": {
      "image/png": "[encoded data removed]",
      "text/plain": [
       "<Figure size 432x288 with 1 Axes>"
      ]
     },
     "metadata": {
      "needs_background": "light"
     },
     "output_type": "display_data"
    },
    {
     "data": {
      "image/png": "[encoded data removed]",
      "text/plain": [
       "<Figure size 432x288 with 1 Axes>"
      ]
     },
     "metadata": {
      "needs_background": "light"
     },
     "output_type": "display_data"
    }
   ],
   "source": [
    "path = '/Users/oomoriyumehiro/lab/Seminar/mss-python/CSV/selective-p.csv'\n",
    "\n",
    "trp_mat = []\n",
    "test_mat = []\n",
    "\n",
    "for i in range(1):\n",
    "    trp_list = []\n",
    "    test_list = []\n",
    "    \n",
    "    for j in range(1):\n",
    "        delta_mu = j\n",
    "        sigma_conf = i + 1\n",
    "#         path = '/Users/oomoriyumehiro/lab/Seminar/mss-python/CSV/size_max2/TPR/sigma1_size64_n5/result{0}_{1}.csv'.format(delta_mu, sigma_conf)\n",
    "        p_list = list_up_p(path)\n",
    "        print(\"平均差: {0}, シグマ領域{1}, 検定回数{2}\".format(delta_mu, sigma_conf, len(p_list)))\n",
    "        show_hist(p_list)\n",
    "        KS(p_list)\n",
    "        trp = TRP(p_list)\n",
    "        test = len(p_list)\n",
    "        trp_list.append(trp)\n",
    "        test_list.append(test)\n",
    "        \n",
    "#         show_hist(p_list)\n",
    "    trp_mat.append(trp_list)\n",
    "    test_mat.append(test_list)\n",
    "show_plot(trp_mat, \"h = {}\", \"rejection rate\")\n",
    "show_plot(test_mat, \"h = {}\", \"test number\")"
   ]
  },
  {
   "cell_type": "code",
   "execution_count": 27,
   "metadata": {
    "scrolled": false
   },
   "outputs": [],
   "source": [
    "import numpy as np\n",
    "\n",
    "def area_num(result):\n",
    "    area_value_list = []\n",
    "    count_list = []\n",
    "    for index, value in enumerate(result):\n",
    "        if value not in area_value_list:\n",
    "            area_value_list.append(value)\n",
    "            count_list.append(0)\n",
    "        area_num = area_value_list.index(value)\n",
    "        count_list[area_num] += 1\n",
    "    return len(area_value_list)"
   ]
  },
  {
   "cell_type": "code",
   "execution_count": 7,
   "metadata": {},
   "outputs": [
    {
     "name": "stdout",
     "output_type": "stream",
     "text": [
      "N=2, 領域数平均: 32.156\n",
      "N=4, 領域数平均: 20.378\n",
      "N=6, 領域数平均: 13.829\n",
      "N=8, 領域数平均: 9.816\n",
      "N=10, 領域数平均: 7.507\n",
      "N=12, 領域数平均: 6.238\n",
      "N=14, 領域数平均: 5.616\n",
      "N=16, 領域数平均: 5.319\n",
      "N=18, 領域数平均: 5.19\n",
      "N=20, 領域数平均: 5.136\n",
      "N=22, 領域数平均: 5.108\n",
      "N=24, 領域数平均: 5.102\n",
      "[32.156, 20.378, 13.829, 9.816, 7.507, 6.238, 5.616, 5.319, 5.19, 5.136, 5.108, 5.102]\n",
      "N=2, 領域数平均: 13.204\n",
      "N=4, 領域数平均: 4.184\n",
      "N=6, 領域数平均: 3.322\n",
      "N=8, 領域数平均: 3.286\n",
      "N=10, 領域数平均: 3.286\n",
      "N=12, 領域数平均: 3.286\n",
      "N=14, 領域数平均: 3.286\n",
      "N=16, 領域数平均: 3.286\n",
      "N=18, 領域数平均: 3.286\n",
      "N=20, 領域数平均: 3.286\n",
      "N=22, 領域数平均: 3.286\n",
      "N=24, 領域数平均: 3.286\n",
      "[13.204, 4.184, 3.322, 3.286, 3.286, 3.286, 3.286, 3.286, 3.286, 3.286, 3.286, 3.286]\n",
      "N=2, 領域数平均: 3.712\n",
      "N=4, 領域数平均: 3.025\n",
      "N=6, 領域数平均: 3.024\n",
      "N=8, 領域数平均: 3.024\n",
      "N=10, 領域数平均: 3.024\n",
      "N=12, 領域数平均: 3.024\n",
      "N=14, 領域数平均: 3.024\n",
      "N=16, 領域数平均: 3.024\n",
      "N=18, 領域数平均: 3.024\n",
      "N=20, 領域数平均: 3.024\n",
      "N=22, 領域数平均: 3.024\n",
      "N=24, 領域数平均: 3.024\n",
      "[3.712, 3.025, 3.024, 3.024, 3.024, 3.024, 3.024, 3.024, 3.024, 3.024, 3.024, 3.024]\n"
     ]
    },
    {
     "data": {
      "image/png": "[encoded data removed]",
      "text/plain": [
       "<Figure size 432x288 with 1 Axes>"
      ]
     },
     "metadata": {
      "needs_background": "light"
     },
     "output_type": "display_data"
    }
   ],
   "source": [
    "N = [2, 4, 6,  8, 10, 12, 14, 16, 18, 20, 22, 24]\n",
    "fig, ax = plt.subplots()\n",
    "ax.grid()\n",
    "ax.set_xlim(0, 24)\n",
    "ax.set_ylim(0, 16)\n",
    "ax.set_xticks(np.linspace(0, 24, 13))\n",
    "for r in range(3):\n",
    "    r += 1\n",
    "    area_num_mean_list = []\n",
    "    for n in N:\n",
    "        path = '/Users/oomoriyumehiro/lab/Seminar/mss-python/CSV/size_max2/Segmentation/N8/result_seg_r{0}_N{1}.csv'.format(r, n)\n",
    "        area_num_mean = 0\n",
    "        count = 0\n",
    "        with open(path) as f:\n",
    "            reader = csv.reader(f)\n",
    "            for row in reader:\n",
    "                area_num_mean += area_num(row)\n",
    "                count += 1\n",
    "        area_num_mean /= count\n",
    "        print(\"N={0}, 領域数平均: {1}\".format(n, area_num_mean))\n",
    "        area_num_mean_list.append(area_num_mean)\n",
    "    print(area_num_mean_list)\n",
    "    plt.scatter(N, area_num_mean_list, label = \"h={}\".format(r))\n",
    "plt.xlabel(\"N\")\n",
    "plt.ylabel(\"area_num\")\n",
    "text_dict = dict(boxstyle = \"round\", fc = \"silver\", ec = \"mediumblue\")\n",
    "# ax.annotate(\"5.10\", size = 8, color = \"black\", xy = (24, 6), bbox = text_dict)\n",
    "# ax.annotate(\"3.29\", size = 8, color = \"black\", xy = (24, 4), bbox = text_dict)\n",
    "# ax.annotate(\"3.02\", size = 8, color = \"black\", xy = (24, 2), bbox = text_dict)\n",
    "plt.legend()\n",
    "plt.show()"
   ]
  },
  {
   "cell_type": "code",
   "execution_count": 8,
   "metadata": {},
   "outputs": [
    {
     "data": {
      "image/png": "[encoded data removed]",
      "text/plain": [
       "<Figure size 432x288 with 1 Axes>"
      ]
     },
     "metadata": {
      "needs_background": "light"
     },
     "output_type": "display_data"
    },
    {
     "data": {
      "image/png": "[encoded data removed]",
      "text/plain": [
       "<Figure size 432x288 with 1 Axes>"
      ]
     },
     "metadata": {
      "needs_background": "light"
     },
     "output_type": "display_data"
    }
   ],
   "source": [
    "data = [129.76405235, 128.40015721, 128.97873798, 130.2408932 ,\n",
    "       129.86755799, 127.02272212, 128.95008842, 127.84864279,\n",
    "       127.89678115, 128.4105985 , 128.14404357, 129.45427351,\n",
    "       128.76103773, 128.12167502, 128.44386323, 128.33367433,\n",
    "       129.49407907, 127.79484174, 128.3130677 , 127.14590426,\n",
    "       125.44701018, 128.6536186 , 128.8644362 , 127.25783498,\n",
    "       130.26975462, 126.54563433, 128.04575852, 127.81281615,\n",
    "       129.53277921, 129.46935877, 128.15494743, 128.37816252,\n",
    "       127.11221425, 126.01920353, 127.65208785, 128.15634897,\n",
    "       129.23029068, 129.20237985, 127.61267318, 127.69769725,\n",
    "       126.95144703, 126.57998206, 126.29372981, 129.9507754 ,\n",
    "       127.49034782, 127.5619257 , 126.74720464, 128.77749036,\n",
    "       126.38610215, 127.78725972, 127.10453344, 128.3869025 ,\n",
    "       127.48919486, 126.81936782, 127.97181777, 128.42833187,\n",
    "       128.06651722, 128.3024719 , 127.36567791, 127.63725883,\n",
    "       127.32753955, 127.64044684, 127.18685372, 126.2737174 ,\n",
    "       128.17742614, 127.59821906, 126.36980165, 128.46278226,\n",
    "       127.09270164, 128.0519454 , 128.72909056, 128.12898291,\n",
    "       129.13940068, 126.76517418, 128.40234164, 127.31518991,\n",
    "       127.12920285, 127.42115034, 127.68844747, 128.05616534,\n",
    "       126.83485016, 128.90082649, 128.46566244, 126.46375631,\n",
    "       129.48825219, 129.89588918, 129.17877957, 127.82007516,\n",
    "       126.92924738, 129.05445173, 127.59682305, 129.22244507,\n",
    "       128.20827498, 128.97663904, 128.3563664 , 128.70657317,\n",
    "       128.01050002, 129.78587049, 128.12691209, 128.40198936,\n",
    "       129.8831507 , 126.65224094, 126.729515  , 128.96939671,\n",
    "       126.82687659, 129.94362119, 127.58638102, 127.25254519,\n",
    "       129.92294203, 129.48051479, 129.86755896, 128.90604466,\n",
    "       127.13877431, 129.91006495, 127.73199663, 128.8024564 ,\n",
    "       128.94725197, 127.84498991, 128.61407937, 128.92220667,\n",
    "       128.37642553, 126.90059921, 128.29823817, 129.3263859 ,\n",
    "       127.30543214, 127.85036546, 127.56484645, 129.84926373,\n",
    "       128.67229476, 128.40746184, 127.23008393, 128.53924919,\n",
    "       127.32566734, 128.03183056, 127.36415392, 128.67643329,\n",
    "       128.57659082, 127.79170124, 128.39600671, 126.90693849,\n",
    "       126.50874241, 128.4393917 , 128.1666735 , 128.63503144,\n",
    "       130.38314477, 128.94447949, 127.08717777, 129.11701629,\n",
    "       126.68409259, 127.5384154 , 127.93175839, 129.71334272,\n",
    "       127.25524518, 127.17356146, 127.90154748, 127.33652171,\n",
    "       129.12663592, 126.92006849, 126.85253135, 127.56217996,\n",
    "       127.50196755, 129.92953205, 128.94942081, 128.08755124,\n",
    "       126.77456448, 128.84436298, 126.99978465, 126.4552289 ,\n",
    "       129.18802979, 128.31694261, 128.92085882, 128.31872765,\n",
    "       128.85683061, 127.34897441, 126.96575716, 128.68159452,\n",
    "       127.19659034, 127.31045022, 127.5444675 , 128.01747916,\n",
    "       127.64600609, 126.62504871, 127.3563816 , 125.77659685,\n",
    "       128.62523145, 126.39794234, 126.89561666, 128.05216508,\n",
    "       127.260437  , 129.5430146 , 126.70714309, 128.26705087,\n",
    "       127.96071718, 126.8319065 , 128.52327666, 127.82845367,\n",
    "       128.77179055, 128.82350415, 130.16323595, 129.33652795,\n",
    "       127.63081816, 127.76062082, 129.0996596 , 128.65526373,\n",
    "       128.64013153, 126.38304396, 127.97567388, 127.26196909,\n",
    "       128.2799246 , 127.90184961, 128.91017891, 128.31721822,\n",
    "       128.78632796, 127.5335809 , 127.05555374, 127.58995031,\n",
    "       127.98297959, 128.37915174, 130.25930895, 127.95774285,\n",
    "       127.044055  , 127.65401822, 127.53640403, 128.48148147,\n",
    "       126.45920299, 128.06326199, 128.15650654, 128.23218104,\n",
    "       127.40268393, 127.76207827, 126.57593909, 127.50668012,\n",
    "       127.45713852, 128.41605005, 126.84381757, 128.7811981 ,\n",
    "       129.49448454, 125.93001497, 128.42625873, 128.67690804,\n",
    "       127.36256297, 127.60272819, 127.86711942, 127.70220912,\n",
    "       127.69098703, 126.32399619, 129.15233156, 129.07961859,\n",
    "       127.18663574, 126.53357567, 128.52106488, 127.42421203,\n",
    "       128.14195316, 127.68067158, 128.69153875, 128.69474914]\n",
    "plt.hist(data, bins=64, range=(min(data), max(data)))\n",
    "plt.show()\n",
    "res = [128.0240170074434, 128.0240170074434, 128.0240170074434, 128.0240170074434, 128.0240170074434, 128.01829532237304, 128.0240170074434, 128.01829532237304, 128.01829532237304, 128.0240170074434, 128.0240170074434, 128.0240170074434, 128.0240170074434, 128.0240170074434, 128.0240170074434, 128.0240170074434, 128.0240170074434, 128.01829532237304, 128.0240170074434, 128.01829532237304, 127.98989913504226, 128.0240170074434, 128.0240170074434, 128.01829532237304, 128.0240170074434, 128.0125083299312, 128.0240170074434, 128.01829532237304, 128.0240170074434, 128.0240170074434, 128.0240170074434, 128.0240170074434, 128.01829532237304, 127.98989913504226, 128.01829532237304, 128.0240170074434, 128.0240170074434, 128.0240170074434, 128.01829532237304, 128.01829532237304, 128.01829532237304, 128.0125083299312, 128.0125083299312, 128.0240170074434, 128.01829532237304, 128.01829532237304, 128.01829532237304, 128.0240170074434, 128.0125083299312, 128.01829532237304, 128.01829532237304, 128.0240170074434, 128.01829532237304, 128.01829532237304, 128.01829532237304, 128.0240170074434, 128.0240170074434, 128.0240170074434, 128.01829532237304, 128.01829532237304, 128.01829532237304, 128.01829532237304, 128.01829532237304, 128.0125083299312, 128.0240170074434, 128.01829532237304, 128.0125083299312, 128.0240170074434, 128.01829532237304, 128.0240170074434, 128.0240170074434, 128.0240170074434, 128.0240170074434, 128.01829532237304, 128.0240170074434, 128.01829532237304, 128.01829532237304, 128.01829532237304, 128.01829532237304, 128.0240170074434, 128.01829532237304, 128.0240170074434, 128.0240170074434, 128.0125083299312, 128.0240170074434, 128.0240170074434, 128.0240170074434, 128.01829532237304, 128.01829532237304, 128.0240170074434, 128.01829532237304, 128.0240170074434, 128.0240170074434, 128.0240170074434, 128.0240170074434, 128.0240170074434, 128.01829532237304, 128.0240170074434, 128.0240170074434, 128.0240170074434, 128.0240170074434, 128.01829532237304, 128.01829532237304, 128.0240170074434, 128.01829532237304, 128.0240170074434, 128.01829532237304, 128.01829532237304, 128.0240170074434, 128.0240170074434, 128.0240170074434, 128.0240170074434, 128.01829532237304, 128.0240170074434, 128.01829532237304, 128.0240170074434, 128.0240170074434, 128.01829532237304, 128.0240170074434, 128.0240170074434, 128.0240170074434, 128.01829532237304, 128.0240170074434, 128.0240170074434, 128.01829532237304, 128.01829532237304, 128.01829532237304, 128.0240170074434, 128.0240170074434, 128.0240170074434, 128.01829532237304, 128.0240170074434, 128.01829532237304, 128.0240170074434, 128.01829532237304, 128.0240170074434, 128.0240170074434, 128.01829532237304, 128.0240170074434, 128.01829532237304, 128.0125083299312, 128.0240170074434, 128.0240170074434, 128.0240170074434, 128.0240170074434, 128.0240170074434, 128.01829532237304, 128.0240170074434, 128.01829532237304, 128.01829532237304, 128.01829532237304, 128.0240170074434, 128.01829532237304, 128.01829532237304, 128.01829532237304, 128.01829532237304, 128.0240170074434, 128.01829532237304, 128.01829532237304, 128.01829532237304, 128.01829532237304, 128.0240170074434, 128.0240170074434, 128.0240170074434, 128.01829532237304, 128.0240170074434, 128.01829532237304, 128.0125083299312, 128.0240170074434, 128.0240170074434, 128.0240170074434, 128.0240170074434, 128.0240170074434, 128.01829532237304, 128.01829532237304, 128.0240170074434, 128.01829532237304, 128.01829532237304, 128.01829532237304, 128.01829532237304, 128.01829532237304, 128.01829532237304, 128.01829532237304, 127.98989913504226, 128.0240170074434, 128.0125083299312, 128.01829532237304, 128.0240170074434, 128.01829532237304, 128.0240170074434, 128.01829532237304, 128.0240170074434, 128.01829532237304, 128.01829532237304, 128.0240170074434, 128.01829532237304, 128.0240170074434, 128.0240170074434, 128.0240170074434, 128.0240170074434, 128.01829532237304, 128.01829532237304, 128.0240170074434, 128.0240170074434, 128.0240170074434, 128.0125083299312, 128.01829532237304, 128.01829532237304, 128.0240170074434, 128.01829532237304, 128.0240170074434, 128.0240170074434, 128.0240170074434, 128.01829532237304, 128.01829532237304, 128.01829532237304, 128.01829532237304, 128.0240170074434, 128.0240170074434, 128.01829532237304, 128.01829532237304, 128.01829532237304, 128.01829532237304, 128.0240170074434, 128.0125083299312, 128.0240170074434, 128.0240170074434, 128.0240170074434, 128.01829532237304, 128.01829532237304, 128.0125083299312, 128.01829532237304, 128.01829532237304, 128.0240170074434, 128.01829532237304, 128.0240170074434, 128.0240170074434, 127.98989913504226, 128.0240170074434, 128.0240170074434, 128.01829532237304, 128.01829532237304, 128.01829532237304, 128.01829532237304, 128.01829532237304, 128.0125083299312, 128.0240170074434, 128.0240170074434, 128.01829532237304, 128.0125083299312, 128.0240170074434, 128.01829532237304, 128.0240170074434, 128.01829532237304, 128.0240170074434, 128.0240170074434]\n",
    "plt.hist(res, bins=64, range=(min(data), max(data)))\n",
    "plt.show()"
   ]
  },
  {
   "cell_type": "code",
   "execution_count": 25,
   "metadata": {},
   "outputs": [
    {
     "name": "stdout",
     "output_type": "stream",
     "text": [
      "9\n"
     ]
    },
    {
     "data": {
      "image/png": "[encoded data removed]",
      "text/plain": [
       "<Figure size 432x288 with 1 Axes>"
      ]
     },
     "metadata": {
      "needs_background": "light"
     },
     "output_type": "display_data"
    },
    {
     "name": "stdout",
     "output_type": "stream",
     "text": [
      "9\n"
     ]
    },
    {
     "data": {
      "image/png": "[encoded data removed]",
      "text/plain": [
       "<Figure size 432x288 with 1 Axes>"
      ]
     },
     "metadata": {
      "needs_background": "light"
     },
     "output_type": "display_data"
    }
   ],
   "source": [
    "vecY =[128.17800183801273, 127.89313386357246, 127.94072056315801, 128.3378042265133, 128.17800183801273, 127.89313386357246, 127.94072056315801, 127.89313386357246, 127.89313386357246, 127.89313386357246, 127.89313386357246, 128.0539391683268, 127.89313386357246, 127.89313386357246, 127.89313386357246, 127.89313386357246, 128.0539391683268, 127.89313386357246, 127.89313386357246, 127.89313386357246, 127.77256659624474, 127.89313386357246, 127.89313386357246, 127.89313386357246, 128.3378042265133, 127.86944356271184, 127.89313386357246, 127.89313386357246, 128.0539391683268, 128.0539391683268, 127.89313386357246, 127.89313386357246, 127.89313386357246, 127.82168447637149, 127.89313386357246, 127.89313386357246, 127.96486050318003, 127.96486050318003, 127.89313386357246, 127.89313386357246, 127.89313386357246, 127.86944356271184, 127.86944356271184, 128.17800183801273, 127.89313386357246, 127.89313386357246, 127.89313386357246, 127.89313386357246, 127.86944356271184, 127.89313386357246, 127.89313386357246, 127.89313386357246, 127.89313386357246, 127.89313386357246, 127.89313386357246, 127.89313386357246, 127.89313386357246, 127.89313386357246, 127.89313386357246, 127.89313386357246, 127.89313386357246, 127.89313386357246, 127.89313386357246, 127.86944356271184]\n",
    "vecY_2 = [128.17800183801273, 127.89313386357249, 127.94072056315804, 128.33780422651333, 128.17800183801273, 127.89313386357249, 127.94072056315804, 127.89313386357249, 127.89313386357249, 127.89313386357249, 127.89313386357249, 128.0539391683268, 127.89313386357249, 127.89313386357249, 127.89313386357249, 127.89313386357249, 128.0539391683268, 127.89313386357249, 127.89313386357249, 127.89313386357249, 127.77256659624473, 127.89313386357249, 127.89313386357249, 127.89313386357249, 128.33780422651333, 127.86944356271184, 127.89313386357249, 127.89313386357249, 128.0539391683268, 128.0539391683268, 127.89313386357249, 127.89313386357249, 127.89313386357249, 127.82168447637149, 127.89313386357249, 127.89313386357249, 127.96486050318008, 127.96486050318008, 127.89313386357249, 127.89313386357249, 127.89313386357249, 127.86944356271184, 127.86944356271184, 128.17800183801273, 127.89313386357249, 127.89313386357249, 127.89313386357249, 127.89313386357249, 127.86944356271184, 127.89313386357249, 127.89313386357249, 127.89313386357249, 127.89313386357249, 127.89313386357249, 127.89313386357249, 127.89313386357249, 127.89313386357249, 127.89313386357249, 127.89313386357249, 127.89313386357249, 127.89313386357249, 127.89313386357249, 127.89313386357249, 127.86944356271184]\n",
    "\n",
    "\n",
    "print(area_num(vecY))\n",
    "plt.hist(vecY, bins=64)\n",
    "plt.show()\n",
    "print(area_num(vecY_2))\n",
    "plt.hist(vecY_2, bins=64)\n",
    "plt.show()"
   ]
  },
  {
   "cell_type": "code",
   "execution_count": null,
   "metadata": {},
   "outputs": [],
   "source": []
  },
  {
   "cell_type": "code",
   "execution_count": null,
   "metadata": {},
   "outputs": [],
   "source": []
  }
 ],
 "metadata": {
  "kernelspec": {
   "display_name": "Python 3",
   "language": "python",
   "name": "python3"
  },
  "language_info": {
   "codemirror_mode": {
    "name": "ipython",
    "version": 3
   },
   "file_extension": ".py",
   "mimetype": "text/x-python",
   "name": "python",
   "nbconvert_exporter": "python",
   "pygments_lexer": "ipython3",
   "version": "3.5.6"
  }
 },
 "nbformat": 4,
 "nbformat_minor": 2
}
